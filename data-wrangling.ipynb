{
 "cells": [
  {
   "cell_type": "markdown",
   "metadata": {},
   "source": [
    "# Data Wrangling"
   ]
  },
  {
   "cell_type": "markdown",
   "metadata": {},
   "source": [
    "Dealing with and or converting missing or ill-formated data into a format that more easily lends itself to analysis"
   ]
  },
  {
   "cell_type": "code",
   "execution_count": 109,
   "metadata": {
    "collapsed": true
   },
   "outputs": [],
   "source": [
    "import numpy as np\n",
    "import pandas as pd\n",
    "import os\n",
    "import re"
   ]
  },
  {
   "cell_type": "code",
   "execution_count": 2,
   "metadata": {
    "collapsed": true
   },
   "outputs": [],
   "source": [
    "def input_dir():\n",
    "    return os.getcwd() + '/data/input/intro-cs-grades/'\n",
    "\n",
    "def output_dir():\n",
    "    return os.getcwd() + '/data/'"
   ]
  },
  {
   "cell_type": "code",
   "execution_count": 159,
   "metadata": {
    "collapsed": true
   },
   "outputs": [],
   "source": [
    "base = 'intro-cs-grades-'\n",
    "filetype_in = '.csv'\n",
    "filetype_out = '.csv'\n",
    "student_id_pattern = re.compile(\"^[0-9]{2}[\\/]?[0-9]{7}$\")\n",
    "table_attributes_def = ['year','assignment1','assignment2',\n",
    "                    'assignment3','assignment4','assignment5',\n",
    "                    'assignment6','assignment7','assignment8',\n",
    "                    'exam1','exam2','texam','finalscore',\n",
    "                    'presence','finalgrade','class'\n",
    "                   ]"
   ]
  },
  {
   "cell_type": "code",
   "execution_count": 172,
   "metadata": {},
   "outputs": [],
   "source": [
    "def wrangle(data_id):\n",
    "    students_data = open(input_dir() + base + data_id + filetype_in, 'r+')\n",
    "    wrangled_data = {} # dict lists of lists\n",
    "    for line in students_data:\n",
    "        # line to list\n",
    "        line = line.split(';')\n",
    "        # remove 3 last entries (garbage)\n",
    "        line = line[:-3]\n",
    "\n",
    "        # check if a new class is starting\n",
    "        if 'turma' in line[0].lower():\n",
    "            # get student class \n",
    "            current_class = line[0][-1] \n",
    "            wrangled_data[current_class] = []\n",
    "        # pass atribute definitions and empty/incorrect lines\n",
    "        elif student_id_pattern.match(line[0].lower()):\n",
    "            # transform student_id to year\n",
    "            line[0] = '20' + line[0][:2]\n",
    "            # replace ',' with '.' for all line elements \n",
    "            line = [element.replace(',', '.') for element in line]\n",
    "            line.append(current_class)\n",
    "            wrangled_data[current_class].append(line)\n",
    "    \n",
    "    # create output file\n",
    "    out_data = open(output_dir() + 'wrangled_' + base + data_id + filetype_out, 'w')\n",
    "    # add new table attribute definitions\n",
    "    out_data.write(','.join(table_attributes_def))\n",
    "    out_data.write('\\n')\n",
    "    for key, student_class in wrangled_data.items():\n",
    "        for student in student_class:\n",
    "            out_data.write(','.join(student))\n",
    "            out_data.write('\\n')\n"
   ]
  },
  {
   "cell_type": "code",
   "execution_count": 173,
   "metadata": {
    "scrolled": true
   },
   "outputs": [],
   "source": [
    "wrangle('2017_1')\n",
    "wrangle('2017_2')"
   ]
  },
  {
   "cell_type": "code",
   "execution_count": 174,
   "metadata": {},
   "outputs": [],
   "source": [
    "# print (baseball_data['nameFirst'])"
   ]
  },
  {
   "cell_type": "code",
   "execution_count": null,
   "metadata": {
    "collapsed": true
   },
   "outputs": [],
   "source": []
  }
 ],
 "metadata": {
  "kernelspec": {
   "display_name": "Python 3",
   "language": "python",
   "name": "python3"
  },
  "language_info": {
   "codemirror_mode": {
    "name": "ipython",
    "version": 3
   },
   "file_extension": ".py",
   "mimetype": "text/x-python",
   "name": "python",
   "nbconvert_exporter": "python",
   "pygments_lexer": "ipython3",
   "version": "3.6.3"
  }
 },
 "nbformat": 4,
 "nbformat_minor": 2
}
